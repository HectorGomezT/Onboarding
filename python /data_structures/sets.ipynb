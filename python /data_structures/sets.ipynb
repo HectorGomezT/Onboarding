{
 "cells": [
  {
   "cell_type": "markdown",
   "id": "20fb4982",
   "metadata": {},
   "source": [
    "# Sets \n",
    "\n",
    "Is a data structure that stores unique information \n",
    "\n",
    "- Contains unique data \n",
    "- Can add o delete values, but cannot change values \n",
    "- Ideal to identify and remove duplicates \n",
    "- Quick to search "
   ]
  },
  {
   "cell_type": "markdown",
   "id": "8e1523a2",
   "metadata": {},
   "source": [
    "#### Creating a Set\n",
    "\n",
    "- set = {},\n",
    "    - : = Dictionary \n",
    "    - No : = Set"
   ]
  },
  {
   "cell_type": "code",
   "execution_count": 6,
   "id": "8020fb2a",
   "metadata": {},
   "outputs": [],
   "source": [
    "champions_list = [\"Rafael Nadal\", \"Roger Federer\", \"Novak Djokovic\", \"Andy Murray\", \"Serena Williams\", \"Rafael Nadal\"]"
   ]
  },
  {
   "cell_type": "markdown",
   "id": "d1be1515",
   "metadata": {},
   "source": [
    "### Converting a list into a set\n",
    "- Given set unique properties \n",
    "- This process in called casting "
   ]
  },
  {
   "cell_type": "code",
   "execution_count": 7,
   "id": "d5fe6437",
   "metadata": {},
   "outputs": [
    {
     "name": "stdout",
     "output_type": "stream",
     "text": [
      "{'Andy Murray', 'Novak Djokovic', 'Serena Williams', 'Rafael Nadal', 'Roger Federer'}\n"
     ]
    }
   ],
   "source": [
    "champions_set = set(champions_list)\n",
    "print(champions_set)"
   ]
  },
  {
   "cell_type": "markdown",
   "id": "a04a3f9a",
   "metadata": {},
   "source": [
    "## Limitations of sets\n",
    "\n",
    "- Dont have index \n",
    "    - Cant have duplicates \n",
    "    - Can´t subset with a []\n"
   ]
  },
  {
   "cell_type": "markdown",
   "id": "d361c98d",
   "metadata": {},
   "source": [
    "#### Sorting a Set\n",
    "\n",
    "- The method sorted, returns a list"
   ]
  },
  {
   "cell_type": "code",
   "execution_count": 11,
   "id": "cbde274a",
   "metadata": {},
   "outputs": [
    {
     "data": {
      "text/plain": [
       "['Andy Murray',\n",
       " 'Novak Djokovic',\n",
       " 'Rafael Nadal',\n",
       " 'Roger Federer',\n",
       " 'Serena Williams']"
      ]
     },
     "execution_count": 11,
     "metadata": {},
     "output_type": "execute_result"
    }
   ],
   "source": [
    "sorted(champions_set)"
   ]
  }
 ],
 "metadata": {
  "kernelspec": {
   "display_name": ".venv",
   "language": "python",
   "name": "python3"
  },
  "language_info": {
   "codemirror_mode": {
    "name": "ipython",
    "version": 3
   },
   "file_extension": ".py",
   "mimetype": "text/x-python",
   "name": "python",
   "nbconvert_exporter": "python",
   "pygments_lexer": "ipython3",
   "version": "3.9.6"
  }
 },
 "nbformat": 4,
 "nbformat_minor": 5
}
