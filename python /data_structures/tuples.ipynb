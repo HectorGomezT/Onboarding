{
 "cells": [
  {
   "cell_type": "markdown",
   "id": "37607e0b",
   "metadata": {},
   "source": [
    "# Tuples\n",
    "\n",
    "- Inmutable - Cannot be changed\n",
    "    - No adding values \n",
    "    - No removing values\n",
    "    - No changing values \n",
    "\n",
    "- Ordered \n",
    "    - Can be subset by index"
   ]
  },
  {
   "cell_type": "markdown",
   "id": "703f1585",
   "metadata": {},
   "source": [
    "### Creating a ***Tuple***"
   ]
  },
  {
   "cell_type": "code",
   "execution_count": 1,
   "id": "9cdfb7b4",
   "metadata": {},
   "outputs": [],
   "source": [
    "NLwest = (\"Dodgers\",\"Giants\", \"Padres\", \"DBacks\", \"Rockies\")"
   ]
  },
  {
   "cell_type": "markdown",
   "id": "0ff0205d",
   "metadata": {},
   "source": [
    "### Converting into a Tuple"
   ]
  },
  {
   "cell_type": "code",
   "execution_count": 2,
   "id": "e5504eb7",
   "metadata": {},
   "outputs": [],
   "source": [
    "NLwest_tuple = tuple(NLwest)"
   ]
  },
  {
   "cell_type": "markdown",
   "id": "5d178fe7",
   "metadata": {},
   "source": [
    "### Accessing Tuples ###\n",
    "\n",
    "- We can subset a tuple *using square brackets* [] the same way we do on lists "
   ]
  },
  {
   "cell_type": "code",
   "execution_count": 3,
   "id": "5d4f9c3c",
   "metadata": {},
   "outputs": [
    {
     "data": {
      "text/plain": [
       "'Giants'"
      ]
     },
     "execution_count": 3,
     "metadata": {},
     "output_type": "execute_result"
    }
   ],
   "source": [
    "NLwest_tuple[1]"
   ]
  }
 ],
 "metadata": {
  "kernelspec": {
   "display_name": ".venv",
   "language": "python",
   "name": "python3"
  },
  "language_info": {
   "codemirror_mode": {
    "name": "ipython",
    "version": 3
   },
   "file_extension": ".py",
   "mimetype": "text/x-python",
   "name": "python",
   "nbconvert_exporter": "python",
   "pygments_lexer": "ipython3",
   "version": "3.9.6"
  }
 },
 "nbformat": 4,
 "nbformat_minor": 5
}
