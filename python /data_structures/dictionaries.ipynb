{
 "cells": [
  {
   "cell_type": "markdown",
   "id": "d1ad0bd4",
   "metadata": {},
   "source": [
    "### Dictionaries ###\n",
    "\n",
    "Key - value pairs \n",
    "\n",
    "It works the same as a normal dictioanry - we can look up a word, which would be a key, and get its associated definition or value "
   ]
  },
  {
   "cell_type": "code",
   "execution_count": 4,
   "id": "5fd5e372",
   "metadata": {},
   "outputs": [],
   "source": [
    "#Create a new dictionary \n",
    "\n",
    "dictionary = {}\n",
    "standings = {\n",
    "                \"Dodgers\": 1, \n",
    "                \"Giants\": 2,\n",
    "                \"Padres\": 3,\n",
    "                \"DBacks\": 4,\n",
    "                \"Rockies\": 5\n",
    "            }"
   ]
  },
  {
   "cell_type": "markdown",
   "id": "9f0d122c",
   "metadata": {},
   "source": [
    "### Accessing  a value based on the key ###\n",
    "- Dictionaries are ordered \n",
    "    - Allows values to be accessed by subsetting on the key "
   ]
  },
  {
   "cell_type": "code",
   "execution_count": 5,
   "id": "8b2869d3",
   "metadata": {},
   "outputs": [
    {
     "data": {
      "text/plain": [
       "1"
      ]
     },
     "execution_count": 5,
     "metadata": {},
     "output_type": "execute_result"
    }
   ],
   "source": [
    "standings[\"Dodgers\"]"
   ]
  },
  {
   "cell_type": "markdown",
   "id": "7b40bc5e",
   "metadata": {},
   "source": [
    "### Accessing all values ###"
   ]
  },
  {
   "cell_type": "code",
   "execution_count": 6,
   "id": "bbb015ce",
   "metadata": {},
   "outputs": [
    {
     "data": {
      "text/plain": [
       "dict_values([1, 2, 3, 4, 5])"
      ]
     },
     "execution_count": 6,
     "metadata": {},
     "output_type": "execute_result"
    }
   ],
   "source": [
    "standings.values()"
   ]
  },
  {
   "cell_type": "markdown",
   "id": "1dbad038",
   "metadata": {},
   "source": [
    "### Accessing all keys"
   ]
  },
  {
   "cell_type": "code",
   "execution_count": 7,
   "id": "c455c40a",
   "metadata": {},
   "outputs": [
    {
     "data": {
      "text/plain": [
       "dict_keys(['Dodgers', 'Giants', 'Padres', 'DBacks', 'Rockies'])"
      ]
     },
     "execution_count": 7,
     "metadata": {},
     "output_type": "execute_result"
    }
   ],
   "source": [
    "standings.keys()"
   ]
  },
  {
   "cell_type": "markdown",
   "id": "47fd4763",
   "metadata": {},
   "source": [
    "### Viewing an entire dictioanary\n",
    "\n"
   ]
  },
  {
   "cell_type": "code",
   "execution_count": 8,
   "id": "59c4dbd7",
   "metadata": {},
   "outputs": [
    {
     "name": "stdout",
     "output_type": "stream",
     "text": [
      "{'Dodgers': 1, 'Giants': 2, 'Padres': 3, 'DBacks': 4, 'Rockies': 5}\n"
     ]
    },
    {
     "data": {
      "text/plain": [
       "dict_items([('Dodgers', 1), ('Giants', 2), ('Padres', 3), ('DBacks', 4), ('Rockies', 5)])"
      ]
     },
     "execution_count": 8,
     "metadata": {},
     "output_type": "execute_result"
    }
   ],
   "source": [
    "print(standings)\n",
    "\n",
    "''' Eficcient whenever we want to iterate over a dictionary, cause it returns tuples'''\n",
    "standings.items()\n"
   ]
  },
  {
   "cell_type": "markdown",
   "id": "bb17a98f",
   "metadata": {},
   "source": [
    "### Subsetting a dictioanry"
   ]
  },
  {
   "cell_type": "code",
   "execution_count": 17,
   "id": "72b86c60",
   "metadata": {},
   "outputs": [
    {
     "name": "stdout",
     "output_type": "stream",
     "text": [
      "('Dodgers', 1)\n",
      "Dodgers\n",
      "{'Dodgers': 1}\n",
      "{'Dodgers': 1}\n"
     ]
    }
   ],
   "source": [
    "print(list(standings.items())[0])\n",
    "\n",
    "print(list(standings.items())[0][0])\n",
    "\n",
    "key, value= list(standings.items())[0]\n",
    "print ({key:value})\n",
    "\n",
    "print(dict([list(standings.items())[0]]))"
   ]
  },
  {
   "cell_type": "markdown",
   "id": "e95b9734",
   "metadata": {},
   "source": [
    "### Adding a new value top the dict"
   ]
  },
  {
   "cell_type": "code",
   "execution_count": 17,
   "id": "9ce7c647",
   "metadata": {},
   "outputs": [
    {
     "data": {
      "text/plain": [
       "dict_items([('Dodgers', 1), ('Giants', 2), ('Padres', 3), ('DBacks', 4), ('Rockies', 5), ('Cardinals', 6)])"
      ]
     },
     "execution_count": 17,
     "metadata": {},
     "output_type": "execute_result"
    }
   ],
   "source": [
    "standings[\"Cardinals\"] = 6\n",
    "standings.items()"
   ]
  },
  {
   "cell_type": "markdown",
   "id": "7e32ae20",
   "metadata": {},
   "source": [
    "### Updating a value associated to an existing key"
   ]
  },
  {
   "cell_type": "code",
   "execution_count": 19,
   "id": "eda5562e",
   "metadata": {},
   "outputs": [
    {
     "name": "stdout",
     "output_type": "stream",
     "text": [
      "{'Dodgers': 1, 'Giants': 2, 'Padres': 3, 'DBacks': 4, 'Rockies': 5, 'Cardinals': 0}\n"
     ]
    }
   ],
   "source": [
    "standings[\"Cardinals\"] = 0\n",
    "print(standings)"
   ]
  },
  {
   "cell_type": "code",
   "execution_count": 24,
   "id": "47d2e912",
   "metadata": {},
   "outputs": [],
   "source": [
    "NationalLeague = {\n",
    "                    \"west\": {\n",
    "\n",
    "                            \"Dodgers\": 1,\n",
    "                            \"Giants\": 2,\n",
    "                            \"Padres\": 3,\n",
    "                            \"DBacks\": 4,\n",
    "                            \"Rockies\": 5\n",
    "                            \n",
    "                            },\n",
    "                    \n",
    "                    \"central\": {\n",
    "\n",
    "                                \"Cubs\": 1,\n",
    "                                \"Brewers\": 2,\n",
    "                                \"Cardinals\": 3,\n",
    "                                \"Reds\": 4,\n",
    "                                \"Pirates\": 5\n",
    "\n",
    "                                },\n",
    "                    \n",
    "                    \"east\": {\n",
    "\n",
    "                                \"Phillies\": 1,\n",
    "                                \"Mets\": 2,\n",
    "                                \"Braves\": 3,\n",
    "                                \"Nationals\": 4,\n",
    "                                \"Marlins\": 5\n",
    "\n",
    "                            }\n",
    "\n",
    "                }"
   ]
  }
 ],
 "metadata": {
  "kernelspec": {
   "display_name": ".venv",
   "language": "python",
   "name": "python3"
  },
  "language_info": {
   "codemirror_mode": {
    "name": "ipython",
    "version": 3
   },
   "file_extension": ".py",
   "mimetype": "text/x-python",
   "name": "python",
   "nbconvert_exporter": "python",
   "pygments_lexer": "ipython3",
   "version": "3.9.6"
  }
 },
 "nbformat": 4,
 "nbformat_minor": 5
}
