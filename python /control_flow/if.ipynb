{
 "cells": [
  {
   "cell_type": "markdown",
   "id": "5b95b887",
   "metadata": {},
   "source": [
    "## Conditionals statemanets \n",
    "\n",
    "Python offers vast functionality to make comparissons and conditionally performs tasks\n",
    "\n",
    "The main data type we will  beworkimg with are BOOLEANS, wich can take the value sof TRUE or False.\n",
    "- These can be uses to compare variables, data structures and values"
   ]
  },
  {
   "cell_type": "markdown",
   "id": "964cb906",
   "metadata": {},
   "source": [
    "### Operadores de comparación\n",
    "\n",
    "Los **operadores de comparación** comparan dos valores y devuelven un resultado booleano (`True` o `False`):\n",
    "\n",
    "| Operador | Significado       | Ejemplo (`a = 5, b = 3`) | Resultado |\n",
    "|----------|-------------------|--------------------------|-----------|\n",
    "| `==`     | Igual a           | `a == b`                 | `False`   |\n",
    "| `!=`     | Diferente de      | `a != b`                 | `True`    |\n",
    "| `>`      | Mayor que         | `a > b`                  | `True`    |\n",
    "| `<`      | Menor que         | `a < b`                  | `False`   |\n",
    "| `>=`     | Mayor o igual que | `a >= b`                 | `True`    |\n",
    "| `<=`     | Menor o igual que | `a <= b`                 | `False`   |\n"
   ]
  },
  {
   "cell_type": "code",
   "execution_count": 1,
   "id": "200b0147",
   "metadata": {},
   "outputs": [
    {
     "name": "stdout",
     "output_type": "stream",
     "text": [
      "a == b: False\n",
      "a != b: True\n",
      "a > b: True\n",
      "a < b: False\n",
      "a >= b: True\n",
      "a <= b: False\n"
     ]
    }
   ],
   "source": [
    "# Probamos los operadores\n",
    "a = 5\n",
    "b = 3\n",
    "\n",
    "print(\"a == b:\", a == b)\n",
    "print(\"a != b:\", a != b)\n",
    "print(\"a > b:\", a > b)\n",
    "print(\"a < b:\", a < b)\n",
    "print(\"a >= b:\", a >= b)\n",
    "print(\"a <= b:\", a <= b)"
   ]
  },
  {
   "cell_type": "markdown",
   "id": "8db5e6e9",
   "metadata": {},
   "source": [
    "##  Sentencias `if`\n",
    "\n",
    "Las **sentencias `if`** permiten ejecutar un bloque de código solo si se cumple una condición.\n",
    "\n",
    "#### Sintaxis básica:\n",
    "```python\n",
    "if condición:\n",
    "    # bloque que se ejecuta si la condición es verdadera\n",
    "```\n"
   ]
  },
  {
   "cell_type": "code",
   "execution_count": 2,
   "id": "4c6b39bb",
   "metadata": {},
   "outputs": [
    {
     "name": "stdout",
     "output_type": "stream",
     "text": [
      "Eres mayor de edad.\n"
     ]
    }
   ],
   "source": [
    "edad = 18\n",
    "\n",
    "if edad >= 18:\n",
    "    print(\"Eres mayor de edad.\")"
   ]
  },
  {
   "cell_type": "markdown",
   "id": "531630aa",
   "metadata": {},
   "source": [
    "## Sentencias `if-else`\n",
    "\n",
    "* We can extend our workflow to perform an action if the condition following the `if` keyword is NOT met "
   ]
  },
  {
   "cell_type": "code",
   "execution_count": 3,
   "id": "36060d13",
   "metadata": {},
   "outputs": [
    {
     "name": "stdout",
     "output_type": "stream",
     "text": [
      "Hace calor.\n"
     ]
    }
   ],
   "source": [
    "temperatura = 30\n",
    "\n",
    "if temperatura > 25:\n",
    "    print(\"Hace calor.\")\n",
    "else:\n",
    "    print(\"El clima es agradable.\")"
   ]
  },
  {
   "cell_type": "markdown",
   "id": "c0bc02d0",
   "metadata": {},
   "source": [
    "## Sentencias `if-elif-else`"
   ]
  },
  {
   "cell_type": "code",
   "execution_count": 4,
   "id": "bb5a48e2",
   "metadata": {},
   "outputs": [
    {
     "name": "stdout",
     "output_type": "stream",
     "text": [
      "Aprobado\n"
     ]
    }
   ],
   "source": [
    "nota = 85\n",
    "\n",
    "if nota >= 90:\n",
    "    print(\"Excelente\")\n",
    "elif nota >= 70:\n",
    "    print(\"Aprobado\")\n",
    "else:\n",
    "    print(\"Reprobado\")"
   ]
  },
  {
   "cell_type": "markdown",
   "id": "0cb32539",
   "metadata": {},
   "source": [
    "### Indentation\n",
    "\n",
    "We must finish the conditional statement with a `:`, this lets oython know that we are about to provide a task to perform if this confition is met.\n",
    "    - We put the task in a new indented line "
   ]
  }
 ],
 "metadata": {
  "kernelspec": {
   "display_name": ".venv",
   "language": "python",
   "name": "python3"
  },
  "language_info": {
   "codemirror_mode": {
    "name": "ipython",
    "version": 3
   },
   "file_extension": ".py",
   "mimetype": "text/x-python",
   "name": "python",
   "nbconvert_exporter": "python",
   "pygments_lexer": "ipython3",
   "version": "3.9.6"
  }
 },
 "nbformat": 4,
 "nbformat_minor": 5
}
