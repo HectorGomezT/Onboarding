{
 "cells": [
  {
   "cell_type": "markdown",
   "id": "b7c2a8df",
   "metadata": {},
   "source": [
    "## For Loops ##"
   ]
  },
  {
   "cell_type": "markdown",
   "id": "b4f52e1d",
   "metadata": {},
   "source": [
    "### Syntax ###\n",
    "\n",
    "    for value in sequence:\n",
    "        action \n",
    "\n",
    "-   For each value in a sequence, perform an action \n",
    "    - Action must be indented \n",
    "\n",
    "-   Sequence = Iterable, such as a list, dictionary, a dataframe \n",
    "\n",
    "-   Value = Iterator, like the index\n",
    "    - Value is a place holder, which means it can receive any name, i is common "
   ]
  },
  {
   "cell_type": "code",
   "execution_count": 1,
   "id": "73b96b53",
   "metadata": {},
   "outputs": [
    {
     "name": "stdout",
     "output_type": "stream",
     "text": [
      "1\n",
      "2\n",
      "3\n",
      "4\n",
      "5\n",
      "6\n",
      "7\n",
      "8\n",
      "9\n"
     ]
    }
   ],
   "source": [
    "list = [1,2,3,4,5,6,7,8,9]\n",
    "\n",
    "for i in list:\n",
    "    print(i)"
   ]
  },
  {
   "cell_type": "code",
   "execution_count": null,
   "id": "6cc69a47",
   "metadata": {},
   "outputs": [],
   "source": [
    "string = \"Prueba de for loops en strings\"\n",
    "\n",
    "for char in string:\n",
    "    print(char)"
   ]
  },
  {
   "cell_type": "code",
   "execution_count": 13,
   "id": "8e98cd7b",
   "metadata": {},
   "outputs": [
    {
     "name": "stdout",
     "output_type": "stream",
     "text": [
      "('Dodgers', 1)\n",
      "('Giants', 2)\n",
      "('Padres', 3)\n",
      "('DBacks', 4)\n",
      "('Rockies', 5)\n",
      "Dodgers 1\n",
      "Giants 2\n",
      "Padres 3\n",
      "DBacks 4\n",
      "Rockies 5\n"
     ]
    }
   ],
   "source": [
    "standings = {\n",
    "                \"Dodgers\": 1, \n",
    "                \"Giants\": 2,\n",
    "                \"Padres\": 3,\n",
    "                \"DBacks\": 4,\n",
    "                \"Rockies\": 5\n",
    "            }\n",
    "\n",
    "\n",
    "for item in standings.items(): #(items,keys,values)\n",
    "    print(item)\n",
    "\n",
    "\n",
    "for key, values in standings.items():\n",
    "    print(key,values)"
   ]
  },
  {
   "cell_type": "markdown",
   "id": "5d3fbb4a",
   "metadata": {},
   "source": [
    "#### Range ####\n",
    "\n",
    "Creates a range, can be use to determine or pass as the iterable on a for loop \n",
    "\n",
    "range(start, end)\n",
    "\n",
    "- start, is inclusive\n",
    "- end, is NOT inclusive "
   ]
  },
  {
   "cell_type": "code",
   "execution_count": 5,
   "id": "1fec7f44",
   "metadata": {},
   "outputs": [
    {
     "name": "stdout",
     "output_type": "stream",
     "text": [
      "1\n",
      "2\n",
      "3\n",
      "4\n",
      "5\n",
      "1\n",
      "2\n",
      "3\n",
      "4\n",
      "5\n",
      "6\n"
     ]
    }
   ],
   "source": [
    "range_test = range(1,6)\n",
    "\n",
    "rangeeee = range(1, (6+1))\n",
    "\n",
    "for number in range_test:\n",
    "    print(number)\n",
    "\n",
    "for number in rangeeee:\n",
    "    print(number)"
   ]
  }
 ],
 "metadata": {
  "kernelspec": {
   "display_name": ".venv",
   "language": "python",
   "name": "python3"
  },
  "language_info": {
   "codemirror_mode": {
    "name": "ipython",
    "version": 3
   },
   "file_extension": ".py",
   "mimetype": "text/x-python",
   "name": "python",
   "nbconvert_exporter": "python",
   "pygments_lexer": "ipython3",
   "version": "3.9.6"
  }
 },
 "nbformat": 4,
 "nbformat_minor": 5
}
