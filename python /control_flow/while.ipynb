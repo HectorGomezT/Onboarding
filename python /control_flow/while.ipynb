{
 "cells": [
  {
   "cell_type": "markdown",
   "id": "3f39d82e",
   "metadata": {},
   "source": [
    "## While Loops"
   ]
  },
  {
   "cell_type": "markdown",
   "id": "c2b3966e",
   "metadata": {},
   "source": [
    "\n",
    "### ¿Qué es un `while` loop?\n",
    "\n",
    "Un `while` loop es una estructura que repite un bloque de código **mientras una condición sea verdadera**.\n",
    "\n",
    "####  Sintaxis:\n",
    "\n",
    "```python\n",
    "while condición:\n",
    "    # código que se repite"
   ]
  },
  {
   "cell_type": "code",
   "execution_count": 1,
   "id": "1345d9a6",
   "metadata": {},
   "outputs": [
    {
     "name": "stdout",
     "output_type": "stream",
     "text": [
      "0\n",
      "1\n",
      "2\n",
      "3\n",
      "4\n"
     ]
    }
   ],
   "source": [
    "contador = 0\n",
    "while contador < 5:\n",
    "    print(contador)\n",
    "    contador += 1"
   ]
  }
 ],
 "metadata": {
  "kernelspec": {
   "display_name": "Python 3",
   "language": "python",
   "name": "python3"
  },
  "language_info": {
   "codemirror_mode": {
    "name": "ipython",
    "version": 3
   },
   "file_extension": ".py",
   "mimetype": "text/x-python",
   "name": "python",
   "nbconvert_exporter": "python",
   "pygments_lexer": "ipython3",
   "version": "3.12.10"
  }
 },
 "nbformat": 4,
 "nbformat_minor": 5
}
