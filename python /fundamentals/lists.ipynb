{
 "cells": [
  {
   "cell_type": "markdown",
   "id": "351b2510",
   "metadata": {},
   "source": [
    "## Lists ##\n",
    "\n",
    "Lists are meant to store multiple values in a single variable.\n",
    "\n",
    "- Can contain any combination of data types (str, float, int, bool)"
   ]
  },
  {
   "cell_type": "code",
   "execution_count": 2,
   "id": "de3c03da",
   "metadata": {},
   "outputs": [],
   "source": [
    "## We use squre backets to define a list \n",
    "\n",
    "List = []"
   ]
  },
  {
   "cell_type": "code",
   "execution_count": 3,
   "id": "f045aea1",
   "metadata": {},
   "outputs": [],
   "source": [
    "\n",
    "NLwest = [\"Dodgers\", \"Giants\", \"Rockies\", \"DBacks\", \"Padres\"]\n",
    "NLeast = [\"Mets\", \"Phillies\", \"Nationals\", \"Braves\", \"Marlins\"]\n",
    "NLcentral = [ \"Cubs\", \"Cardinals\", \"Brewers\", \"Reds\", \"Pirates\"]"
   ]
  },
  {
   "cell_type": "markdown",
   "id": "f5c02773",
   "metadata": {},
   "source": [
    "We can also provide variables rather than the raw values "
   ]
  },
  {
   "cell_type": "code",
   "execution_count": 4,
   "id": "49a2a045",
   "metadata": {},
   "outputs": [],
   "source": [
    "NationalLeague = [NLwest, NLcentral, NLeast]"
   ]
  },
  {
   "cell_type": "markdown",
   "id": "ccd5dc29",
   "metadata": {},
   "source": [
    "### Accessing elements of a list ###\n",
    "\n",
    "- Lists are ordered, so we can acees certain elements by subsetting or indexing.\n",
    "\n",
    "- Python counts values starting from zero for the first element "
   ]
  },
  {
   "cell_type": "code",
   "execution_count": 5,
   "id": "266604c5",
   "metadata": {},
   "outputs": [
    {
     "name": "stdout",
     "output_type": "stream",
     "text": [
      "Dodgers\n"
     ]
    }
   ],
   "source": [
    "Subset = NLwest[0]\n",
    "print(Subset)"
   ]
  },
  {
   "cell_type": "markdown",
   "id": "f163ee25",
   "metadata": {},
   "source": [
    "### Indexing  and slicing ###\n",
    "\n",
    "list[2:5]\n",
    "* start: the index to start from (inclusive).\n",
    "* stop: the index to stop at (exclusive → not included)."
   ]
  },
  {
   "cell_type": "code",
   "execution_count": null,
   "id": "aa227bee",
   "metadata": {},
   "outputs": [
    {
     "name": "stdout",
     "output_type": "stream",
     "text": [
      "['Padres', 'DBacks', 'Rockies', 'Giants', 'Dodgers']\n"
     ]
    }
   ],
   "source": [
    "NLwest = [\"Dodgers\", \"Giants\", \"Rockies\", \"DBacks\", \"Padres\"]\n",
    "\n",
    "NLwest[0] #First element \n",
    "NLwest[-1] #Last element \n",
    "NLeast[2] #N represent the known position \n",
    "\n",
    "NLwest[1:3]    # ['Giants', 'Rockies'] - elements at index 1 and 2\n",
    "NLwest[:2]     # ['Dodgers', 'Giants'] - from start up to (not including) index 2\n",
    "NLwest[2:]     # ['Rockies', 'DBacks', 'Padres'] - from index 2 to end\n",
    "NLwest[:]      #  - full copy\n",
    "NLwest[::2]    #Acees every other element ['Dodgers', 'Rockies', 'Padres'] - specify the interval \n",
    "NLwest[::-1]   # ['Padres', 'DBacks', 'Rockies', 'Giants', 'Dodgers'] - reversed list"
   ]
  }
 ],
 "metadata": {
  "kernelspec": {
   "display_name": ".venv",
   "language": "python",
   "name": "python3"
  },
  "language_info": {
   "codemirror_mode": {
    "name": "ipython",
    "version": 3
   },
   "file_extension": ".py",
   "mimetype": "text/x-python",
   "name": "python",
   "nbconvert_exporter": "python",
   "pygments_lexer": "ipython3",
   "version": "3.9.6"
  }
 },
 "nbformat": 4,
 "nbformat_minor": 5
}
