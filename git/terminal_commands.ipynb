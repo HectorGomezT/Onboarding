{
 "cells": [
  {
   "cell_type": "markdown",
   "metadata": {},
   "source": [
    "**                              **TERMINAL COMMANDS**                                           **"
   ]
  },
  {
   "cell_type": "markdown",
   "metadata": {},
   "source": [
    " - ls - List directory content <br>\n",
    "                        Shows files and folders in the current directory  \n",
    "\n",
    " - cd - Change directory  <br>\n",
    "            Moves to a diferent directory \n",
    "\n",
    " - cd .. - Change directory <br>\n",
    "            Moves up one directory level \n",
    "    \n",
    " - pwd - Prints working directory <br>\n",
    "            Displays the current directory path \n",
    "   \n",
    "\n",
    " - mkdir - Makes directory <br>\n",
    "            Creates a new directory \n",
    "  \n",
    "\n",
    " - rm -r - Remove recursively <br>\n",
    "            Deletes a directory and its content \n",
    "  \n",
    "\n",
    " - cp - Copy files or directory <br>\n",
    "            Copies files/folders from one location to another \n",
    " \n",
    "\n",
    " - mv - Move or rename files <br>\n",
    "            Moves or renames files/folders\n",
    " \n",
    "\n",
    " - touch - Create an empty file <br>\n",
    "            Creates a new empty file\n",
    " \n",
    "\n",
    " - find - Search for files <br>\n",
    "         Locates files in a directory tree \n",
    "\n",
    "- pip show library - Shows the version of the specified python library \n",
    "     "
   ]
  }
 ],
 "metadata": {
  "kernelspec": {
   "display_name": "Python 3",
   "language": "python",
   "name": "python3"
  },
  "language_info": {
   "codemirror_mode": {
    "name": "ipython",
    "version": 3
   },
   "file_extension": ".py",
   "mimetype": "text/x-python",
   "name": "python",
   "nbconvert_exporter": "python",
   "pygments_lexer": "ipython3",
   "version": "3.9.6"
  }
 },
 "nbformat": 4,
 "nbformat_minor": 2
}
